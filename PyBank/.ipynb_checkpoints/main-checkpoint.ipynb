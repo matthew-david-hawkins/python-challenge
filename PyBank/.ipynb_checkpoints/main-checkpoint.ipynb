{
 "cells": [
  {
   "cell_type": "code",
   "execution_count": 87,
   "metadata": {},
   "outputs": [],
   "source": [
    "#Overview:\n",
    "# In this challenge, you are tasked with creating a Python script for \n",
    "# analyzing the financial records of your company. You will give a \n",
    "# set of financial data called budget_data.csv. The dataset is composed \n",
    "# of two columns: Date and Profit/Losses.\n",
    "\n",
    "#Calculate: \n",
    "# The total number of months included in the dataset\n",
    "# The net total amount of \"Profit/Losses\" over the entire period\n",
    "# The average of the changes in \"Profit/Losses\" over the entire period\n",
    "# The greatest increase in profits (date and amount) over the entire period\n",
    "# The greatest decrease in losses (date and amount) over the entire period\n",
    "\n",
    "#References:\n",
    "# Creating directories https://stackabuse.com/creating-and-deleting-directories-with-python/"
   ]
  },
  {
   "cell_type": "code",
   "execution_count": 88,
   "metadata": {},
   "outputs": [],
   "source": [
    "#Import Dependencies\n",
    "import csv\n",
    "\n",
    "import os"
   ]
  },
  {
   "cell_type": "code",
   "execution_count": 89,
   "metadata": {},
   "outputs": [],
   "source": [
    "# Define the path to the dataset\n",
    "csv_path = \"Resources/budget_data.csv\""
   ]
  },
  {
   "cell_type": "code",
   "execution_count": 90,
   "metadata": {},
   "outputs": [],
   "source": [
    "#initialize\n",
    "months = 0\n",
    "account = 0\n",
    "greatest_loss = 0\n",
    "greatest_profit = 0\n",
    "greatest_loss_month =\"\"\n",
    "greatest_profit_month =\"\""
   ]
  },
  {
   "cell_type": "code",
   "execution_count": 91,
   "metadata": {},
   "outputs": [],
   "source": [
    "# Read the dataset into a file stream objects\n",
    "with open(csv_path, newline='') as csv_file:\n",
    "    \n",
    "    #Define reader object delimited by \",\"\n",
    "    csv_reader = csv.reader(csv_file, delimiter=\",\")\n",
    "    \n",
    "    #Define the header\n",
    "    csv_header = next(csv_reader)\n",
    "    #print(csv_header)\n",
    "    \n",
    "    #Loop over the number of lines\n",
    "    for row in csv_reader:\n",
    "        \n",
    "        #Sum the months\n",
    "        months = months + 1\n",
    "        \n",
    "        #Define the current profit/loss\n",
    "        pl = int(row [1])\n",
    "        \n",
    "        #Sum the Profit/losses\n",
    "        account = account + pl\n",
    "        \n",
    "        #track the greatest profit by comparing current profit to greatest profit\n",
    "        if pl > greatest_profit:\n",
    "            greatest_profit_month = row[0]\n",
    "            greatest_profit = pl\n",
    "            \n",
    "        #track the greatest loss by comparing current loss to greatest loss\n",
    "        elif pl < greatest_loss:\n",
    "            greatest_loss_month = row[0]\n",
    "            greatest_loss = pl\n",
    "        \n",
    "        #print(f\"{row}  months = {months}  account = {account} greatest profit = {greatest_profit} greatest loss = {greatest_loss}\")\n",
    "        #print(greatest_loss_month)"
   ]
  },
  {
   "cell_type": "code",
   "execution_count": 100,
   "metadata": {},
   "outputs": [
    {
     "data": {
      "text/plain": [
       "446309.0465116279"
      ]
     },
     "execution_count": 100,
     "metadata": {},
     "output_type": "execute_result"
    }
   ],
   "source": [
    "#Calculate the average profit and loss\n",
    "mean_pl = account / months\n",
    "mean_pl"
   ]
  },
  {
   "cell_type": "code",
   "execution_count": 106,
   "metadata": {},
   "outputs": [],
   "source": [
    "#Define messages\n",
    "messages = []\n",
    "messages.append(\"Finanacial Analysis\")\n",
    "messages.append(\"-------------------------------------------------------------------------\")\n",
    "messages.append(f\"Total Months: {months}\")\n",
    "messages.append(f\"Total: ${account}\")\n",
    "messages.append(f\"Average Change: ${round(mean_pl,2)}\")\n",
    "messages.append(f\"Greatest Increase in Profits: {greatest_profit_month} ({greatest_profit})\")\n",
    "messages.append(f\"Greatest Decrease in Profits: {greatest_loss_month} ({greatest_loss})\")"
   ]
  },
  {
   "cell_type": "code",
   "execution_count": 107,
   "metadata": {},
   "outputs": [
    {
     "name": "stdout",
     "output_type": "stream",
     "text": [
      "Finanacial Analysis\n",
      "-------------------------------------------------------------------------\n",
      "Total Months: 86\n",
      "Total: $38382578\n",
      "Average Change: $446309.05\n",
      "Greatest Increase in Profits: Feb-2012 (1170593)\n",
      "Greatest Decrease in Profits: Sep-2013 (-1196225)\n"
     ]
    }
   ],
   "source": [
    "#print messages to the terminal\n",
    "for message in messages:\n",
    "    print(message)"
   ]
  },
  {
   "cell_type": "code",
   "execution_count": 108,
   "metadata": {},
   "outputs": [
    {
     "name": "stdout",
     "output_type": "stream",
     "text": [
      "Matt's Warning: Creation of the directory 'Output' failed\n"
     ]
    }
   ],
   "source": [
    "#create an output folder if one doesn't already exist\n",
    "try:\n",
    "    os.mkdir(\"Output\")\n",
    "except OSError:\n",
    "    print (\"Matt's Warning: Creation of the directory 'Output' failed\")\n",
    "\n"
   ]
  },
  {
   "cell_type": "code",
   "execution_count": 109,
   "metadata": {},
   "outputs": [],
   "source": [
    "#Export the analysis to a text file\n",
    "with open(\"Output/financial_analysis.txt\", 'w+') as output:\n",
    "    for message in messages:\n",
    "        output.write(message)\n",
    "        output.write(\"\\n\")"
   ]
  }
 ],
 "metadata": {
  "kernelspec": {
   "display_name": "Python 3",
   "language": "python",
   "name": "python3"
  },
  "language_info": {
   "codemirror_mode": {
    "name": "ipython",
    "version": 3
   },
   "file_extension": ".py",
   "mimetype": "text/x-python",
   "name": "python",
   "nbconvert_exporter": "python",
   "pygments_lexer": "ipython3",
   "version": "3.7.3"
  }
 },
 "nbformat": 4,
 "nbformat_minor": 2
}
