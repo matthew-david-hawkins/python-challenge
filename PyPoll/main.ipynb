{
 "cells": [
  {
   "cell_type": "code",
   "execution_count": 76,
   "metadata": {},
   "outputs": [],
   "source": [
    "#Your task is to create a Python script that analyzes the votes and calculates each of the following:\n",
    "# The total number of votes cast\n",
    "# A complete list of candidates who received votes\n",
    "# The percentage of votes each candidate won\n",
    "# The total number of votes each candidate won\n",
    "# The winner of the election based on popular vote.\n",
    "\n",
    "#Import dependencies\n",
    "import os\n",
    "import csv"
   ]
  },
  {
   "cell_type": "code",
   "execution_count": 77,
   "metadata": {},
   "outputs": [],
   "source": [
    "#Define the path to the dataset\n",
    "csv_path = \"Resources/election_data.csv\""
   ]
  },
  {
   "cell_type": "code",
   "execution_count": 78,
   "metadata": {},
   "outputs": [],
   "source": [
    "#Initialize\n",
    "voters = 0\n",
    "candidates = []\n",
    "votes = []\n",
    "percentages = []"
   ]
  },
  {
   "cell_type": "code",
   "execution_count": 79,
   "metadata": {},
   "outputs": [
    {
     "name": "stdout",
     "output_type": "stream",
     "text": [
      "['Khan', 'Correy', 'Li', \"O'Tooley\"]\n",
      "[2218231, 704200, 492940, 105630]\n"
     ]
    }
   ],
   "source": [
    "#Read the data set into a csv reader object\n",
    "with open(csv_path, newline='') as csv_file:\n",
    "\n",
    "    #Define reader object delimited by \",\"\n",
    "    csv_reader = csv.reader(csv_file, delimiter=\",\")\n",
    "    \n",
    "    #Define the header\n",
    "    csv_header = next(csv_reader)\n",
    "    \n",
    "#     #print the Head\n",
    "#     print(csv_header)\n",
    "#     for i in range(6):\n",
    "#         print(next(csv_reader))\n",
    "    \n",
    "    #iterate over the lines in the csv_file\n",
    "    for rows in csv_reader:\n",
    "        \n",
    "        #sum the votor IDs\n",
    "        voters = voters +1\n",
    "        \n",
    "        #Define the cadidate\n",
    "        candidate = rows[2]\n",
    "        \n",
    "        #if the current candidate is not in the list, add there name and append the vote count list\n",
    "        if (candidate in candidates) == False:\n",
    "            candidates.append(candidate)\n",
    "            votes.append(0)\n",
    "            percentages.append(0)\n",
    "        \n",
    "        #--------------------------------------------\n",
    "        #Increment the candidate's vote count\n",
    "        #--------------------------------------------\n",
    "\n",
    "        # Iterate over the indices of the candidates list\n",
    "        for i in range(len(candidates)):\n",
    "            \n",
    "            #increase the candidate's vote count\n",
    "            if (candidate == candidates[i]):\n",
    "                votes[i] = votes[i] + 1\n",
    "        \n",
    "    print(candidates)\n",
    "    print(votes)"
   ]
  },
  {
   "cell_type": "code",
   "execution_count": 80,
   "metadata": {},
   "outputs": [
    {
     "name": "stdout",
     "output_type": "stream",
     "text": [
      "[63.00001050837531, 19.999994319797125, 13.999996023857989, 2.999999147969569]\n"
     ]
    }
   ],
   "source": [
    "#Calculate the vote percentages for each candidate\n",
    "# Iterate over the indices of the candidates list\n",
    "for i in range(len(candidates)):\n",
    "        percentages[i] = votes[i] / voters * 100\n",
    "print(percentages)"
   ]
  },
  {
   "cell_type": "code",
   "execution_count": 81,
   "metadata": {},
   "outputs": [],
   "source": [
    "#Determine the candidate with the highest number of votes\n",
    "winner = candidates[votes.index(max(votes))]"
   ]
  },
  {
   "cell_type": "code",
   "execution_count": 82,
   "metadata": {},
   "outputs": [],
   "source": [
    "#Define messages\n",
    "messages = []\n",
    "messages.append(\"Election Results\")\n",
    "messages.append(\"--------------------------------\")\n",
    "messages.append(f\"Total votes: {voters}\")\n",
    "messages.append(\"--------------------------------\")\n",
    "for i in range(len(candidates)):\n",
    "    messages.append(f\"{candidates[i]}: {round(percentages[i], 4)}%  ({votes[i]})\")\n",
    "messages.append(\"--------------------------------\")\n",
    "messages.append(f\"Winner: {winner}\")\n",
    "messages.append(\"--------------------------------\")"
   ]
  },
  {
   "cell_type": "code",
   "execution_count": 83,
   "metadata": {},
   "outputs": [
    {
     "name": "stdout",
     "output_type": "stream",
     "text": [
      "Election Results\n",
      "--------------------------------\n",
      "Total votes: 3521001\n",
      "--------------------------------\n",
      "Khan: 63.0%  (2218231)\n",
      "Correy: 20.0%  (704200)\n",
      "Li: 14.0%  (492940)\n",
      "O'Tooley: 3.0%  (105630)\n",
      "--------------------------------\n",
      "Winner: Khan\n",
      "--------------------------------\n"
     ]
    }
   ],
   "source": [
    "#print messages to the terminal\n",
    "for message in messages:\n",
    "    print(message)"
   ]
  },
  {
   "cell_type": "code",
   "execution_count": 84,
   "metadata": {},
   "outputs": [
    {
     "name": "stdout",
     "output_type": "stream",
     "text": [
      "Matt's Warning: Creation of the directory 'Output' failed\n"
     ]
    }
   ],
   "source": [
    "#create an output folder if one doesn't already exist\n",
    "try:\n",
    "    os.mkdir(\"Output\")\n",
    "except OSError:\n",
    "    print (\"Matt's Warning: Creation of the directory 'Output' failed\")\n"
   ]
  },
  {
   "cell_type": "code",
   "execution_count": 85,
   "metadata": {},
   "outputs": [],
   "source": [
    "#Export the analysis to a text file\n",
    "with open(\"Output/election_results.txt\", 'w+') as output:\n",
    "    for message in messages:\n",
    "        output.write(message)\n",
    "        output.write(\"\\n\")"
   ]
  },
  {
   "cell_type": "code",
   "execution_count": null,
   "metadata": {},
   "outputs": [],
   "source": []
  }
 ],
 "metadata": {
  "kernelspec": {
   "display_name": "Python 3",
   "language": "python",
   "name": "python3"
  },
  "language_info": {
   "codemirror_mode": {
    "name": "ipython",
    "version": 3
   },
   "file_extension": ".py",
   "mimetype": "text/x-python",
   "name": "python",
   "nbconvert_exporter": "python",
   "pygments_lexer": "ipython3",
   "version": "3.7.3"
  }
 },
 "nbformat": 4,
 "nbformat_minor": 2
}
